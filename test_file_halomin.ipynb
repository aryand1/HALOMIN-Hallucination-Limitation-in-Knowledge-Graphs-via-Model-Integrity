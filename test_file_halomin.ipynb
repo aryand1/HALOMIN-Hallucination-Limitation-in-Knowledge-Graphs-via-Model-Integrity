{
  "nbformat": 4,
  "nbformat_minor": 0,
  "metadata": {
    "colab": {
      "provenance": [],
      "gpuType": "T4"
    },
    "kernelspec": {
      "name": "python3",
      "display_name": "Python 3"
    },
    "language_info": {
      "name": "python"
    },
    "accelerator": "GPU"
  },
  "cells": [
    {
      "cell_type": "markdown",
      "source": [
        "Library"
      ],
      "metadata": {
        "id": "p3VfBy8OSVrT"
      }
    },
    {
      "cell_type": "code",
      "source": [
        "!pip install openai==0.28\n",
        "!pip install nltk\n",
        "!pip install rdflib"
      ],
      "metadata": {
        "colab": {
          "base_uri": "https://localhost:8080/"
        },
        "id": "5AE6wPMU3AL0",
        "outputId": "214aa657-7c7d-4f65-be14-1bfef347dfad"
      },
      "execution_count": null,
      "outputs": [
        {
          "output_type": "stream",
          "name": "stdout",
          "text": [
            "Requirement already satisfied: openai==0.28 in /usr/local/lib/python3.10/dist-packages (0.28.0)\n",
            "Requirement already satisfied: requests>=2.20 in /usr/local/lib/python3.10/dist-packages (from openai==0.28) (2.32.3)\n",
            "Requirement already satisfied: tqdm in /usr/local/lib/python3.10/dist-packages (from openai==0.28) (4.66.5)\n",
            "Requirement already satisfied: aiohttp in /usr/local/lib/python3.10/dist-packages (from openai==0.28) (3.10.5)\n",
            "Requirement already satisfied: charset-normalizer<4,>=2 in /usr/local/lib/python3.10/dist-packages (from requests>=2.20->openai==0.28) (3.3.2)\n",
            "Requirement already satisfied: idna<4,>=2.5 in /usr/local/lib/python3.10/dist-packages (from requests>=2.20->openai==0.28) (3.10)\n",
            "Requirement already satisfied: urllib3<3,>=1.21.1 in /usr/local/lib/python3.10/dist-packages (from requests>=2.20->openai==0.28) (2.0.7)\n",
            "Requirement already satisfied: certifi>=2017.4.17 in /usr/local/lib/python3.10/dist-packages (from requests>=2.20->openai==0.28) (2024.8.30)\n",
            "Requirement already satisfied: aiohappyeyeballs>=2.3.0 in /usr/local/lib/python3.10/dist-packages (from aiohttp->openai==0.28) (2.4.0)\n",
            "Requirement already satisfied: aiosignal>=1.1.2 in /usr/local/lib/python3.10/dist-packages (from aiohttp->openai==0.28) (1.3.1)\n",
            "Requirement already satisfied: attrs>=17.3.0 in /usr/local/lib/python3.10/dist-packages (from aiohttp->openai==0.28) (24.2.0)\n",
            "Requirement already satisfied: frozenlist>=1.1.1 in /usr/local/lib/python3.10/dist-packages (from aiohttp->openai==0.28) (1.4.1)\n",
            "Requirement already satisfied: multidict<7.0,>=4.5 in /usr/local/lib/python3.10/dist-packages (from aiohttp->openai==0.28) (6.1.0)\n",
            "Requirement already satisfied: yarl<2.0,>=1.0 in /usr/local/lib/python3.10/dist-packages (from aiohttp->openai==0.28) (1.11.1)\n",
            "Requirement already satisfied: async-timeout<5.0,>=4.0 in /usr/local/lib/python3.10/dist-packages (from aiohttp->openai==0.28) (4.0.3)\n",
            "Requirement already satisfied: typing-extensions>=4.1.0 in /usr/local/lib/python3.10/dist-packages (from multidict<7.0,>=4.5->aiohttp->openai==0.28) (4.12.2)\n",
            "Requirement already satisfied: nltk in /usr/local/lib/python3.10/dist-packages (3.8.1)\n",
            "Requirement already satisfied: click in /usr/local/lib/python3.10/dist-packages (from nltk) (8.1.7)\n",
            "Requirement already satisfied: joblib in /usr/local/lib/python3.10/dist-packages (from nltk) (1.4.2)\n",
            "Requirement already satisfied: regex>=2021.8.3 in /usr/local/lib/python3.10/dist-packages (from nltk) (2024.9.11)\n",
            "Requirement already satisfied: tqdm in /usr/local/lib/python3.10/dist-packages (from nltk) (4.66.5)\n",
            "Requirement already satisfied: rdflib in /usr/local/lib/python3.10/dist-packages (7.0.0)\n",
            "Requirement already satisfied: isodate<0.7.0,>=0.6.0 in /usr/local/lib/python3.10/dist-packages (from rdflib) (0.6.1)\n",
            "Requirement already satisfied: pyparsing<4,>=2.1.0 in /usr/local/lib/python3.10/dist-packages (from rdflib) (3.1.4)\n",
            "Requirement already satisfied: six in /usr/local/lib/python3.10/dist-packages (from isodate<0.7.0,>=0.6.0->rdflib) (1.16.0)\n"
          ]
        }
      ]
    },
    {
      "cell_type": "code",
      "source": [
        "import openai\n",
        "import os\n",
        "import re\n",
        "import numpy as np\n",
        "from transformers import BertTokenizer, BertModel, RobertaTokenizer, RobertaModel\n",
        "import torch\n",
        "from sklearn.metrics.pairwise import cosine_similarity\n",
        "import matplotlib.pyplot as plt\n",
        "import nltk\n",
        "nltk.download('wordnet')  # Downloads the WordNet lemmatizer component\n"
      ],
      "metadata": {
        "colab": {
          "base_uri": "https://localhost:8080/"
        },
        "id": "fUgBdi9p-ds8",
        "outputId": "7158c45c-8ab1-412b-f93f-e91856afafd4"
      },
      "execution_count": null,
      "outputs": [
        {
          "output_type": "stream",
          "name": "stderr",
          "text": [
            "[nltk_data] Downloading package wordnet to /root/nltk_data...\n",
            "[nltk_data]   Package wordnet is already up-to-date!\n"
          ]
        },
        {
          "output_type": "execute_result",
          "data": {
            "text/plain": [
              "True"
            ]
          },
          "metadata": {},
          "execution_count": 72
        }
      ]
    },
    {
      "cell_type": "code",
      "source": [
        "#printing raw output from API and separated one (sepration doesnt work good)\n",
        "### Always use more tokens for better output, otherwise it might bot generate all the required field outputs ###\n",
        "\n",
        "api_key = 'YOUR_CHATGPT_KEY'\n",
        "\n",
        "openai.api_key = api_key\n",
        "\n",
        "# Input text for processing\n",
        "input_text = \"Iam going to bank. Swimming in summer is good\"# Setup for the OpenAI Chat API request\n",
        "messages = [\n",
        "    {\"role\": \"system\", \"content\": \"You are an expert on Knowledge graph and Ontologies formation.\"},\n",
        "    {\"role\": \"user\", \"content\": f\"Could you please convert the following text: ‘{input_text}’ and identify the entities, one word relationships, and triples among the identified entities and relationships? Please follow this structure only for the output (Entities: [Entity 1, Entity 2,...]), (Realtionships : [Realtionship 1, Realtionship 2,...]), (Triples : [Triple 1, Triple 2,...)\"}\n",
        "]\n",
        "\n",
        "response = openai.ChatCompletion.create(\n",
        "    model=\"gpt-4\",\n",
        "    messages=messages,\n",
        "    max_tokens=3000  # Increase max_tokens if necessary to get complete outputs\n",
        ")\n",
        "\n",
        "# Extracting and displaying the content from the response\n",
        "output = response.choices[0].message[\"content\"]\n",
        "#print(\"Raw output from ChatGPT:\\n\", output)\n",
        "#print(type(output))"
      ],
      "metadata": {
        "id": "WGoOLMdcSkIu"
      },
      "execution_count": null,
      "outputs": []
    },
    {
      "cell_type": "code",
      "source": [
        "print(output)"
      ],
      "metadata": {
        "colab": {
          "base_uri": "https://localhost:8080/"
        },
        "id": "nqQWKVufnQH6",
        "outputId": "29faaf17-4be7-418b-de47-1d514c5c20be"
      },
      "execution_count": null,
      "outputs": [
        {
          "output_type": "stream",
          "name": "stdout",
          "text": [
            "Entities: ['I', 'bank', 'swimming', 'summer']\n",
            "\n",
            "Relationships: ['going to', 'in']\n",
            "\n",
            "Triples: [('I', 'going to', 'bank'), ('swimming', 'in', 'summer')]\n",
            "\n"
          ]
        }
      ]
    },
    {
      "cell_type": "code",
      "source": [
        "#Passed TEST:fetching relationship and triples sepration from the raw output\n",
        "import re\n",
        "\n",
        "def partition_string(output, pattern):\n",
        "    match = re.search(pattern, output)\n",
        "    if match:\n",
        "        start_index = match.start()\n",
        "        end_index = output.find(']', start_index)\n",
        "        if end_index != -1:\n",
        "            entities_part = output[start_index:end_index + 1].strip()\n",
        "            rest_part = output[:start_index].strip() + \" \" + output[end_index + 1:].strip()\n",
        "            return entities_part, rest_part\n",
        "    return None, output\n",
        "\n",
        "\n",
        "entities_part, rest_part = partition_string(output, r'[eE]nt\\w*\\s*:\\s*\\[')\n",
        "relations_part, final_rest = partition_string(rest_part, r'[rR]elat\\w*\\s*:\\s*\\[')\n",
        "\n",
        "\n",
        "\n",
        "triple_part, final_rest = partition_string(final_rest, r'[tT]rip\\w*\\s*:\\s*\\[')\n",
        "\n",
        "#print(entities_part)\n",
        "#print(relations_part)\n",
        "\n",
        "#print(triple_part)\n",
        "\n",
        "entities_list = [entity.strip() for entity in entities_part.replace(\"Entities: [\", \"\").rstrip(\"]\").split(\",\")]\n",
        "relations_list = [relation.strip() for relation in relations_part.replace(\"Relationships: [\", \"\").rstrip(\"]\").split(\",\")]"
      ],
      "metadata": {
        "id": "oN3rSYuM5m51"
      },
      "execution_count": null,
      "outputs": []
    },
    {
      "cell_type": "code",
      "source": [
        "print(entities_list)\n",
        "print(relations_list)"
      ],
      "metadata": {
        "colab": {
          "base_uri": "https://localhost:8080/"
        },
        "id": "5ZbQQtvxnJDA",
        "outputId": "bd72d032-91f2-4dfa-c12b-e19fc7058320"
      },
      "execution_count": null,
      "outputs": [
        {
          "output_type": "stream",
          "name": "stdout",
          "text": [
            "[\"'I'\", \"'bank'\", \"'swimming'\", \"'summer'\"]\n",
            "[\"'going to'\", \"'in'\"]\n"
          ]
        }
      ]
    },
    {
      "cell_type": "markdown",
      "source": [
        "From here word comparison thing starts"
      ],
      "metadata": {
        "id": "9F5x4HWPJl0I"
      }
    },
    {
      "cell_type": "code",
      "source": [
        "import nltk\n",
        "from nltk.stem import WordNetLemmatizer\n",
        "\n",
        "# Ensure necessary NLTK resources are downloaded\n",
        "nltk.download('wordnet')\n",
        "nltk.download('omw-1.4')  # Open Multilingual Wordnet\n",
        "\n",
        "# Initialize the WordNet lemmatizer\n",
        "lemmatizer = WordNetLemmatizer()\n",
        "\n",
        "def lemmatize_words(words):\n",
        "    # Converts words to lowercase and then lemmatizes them\n",
        "    return set(lemmatizer.lemmatize(word.lower()) for word in words.split())\n",
        "\n",
        "# # Your lists\n",
        "# entities_list = [\"Knowledge graph\", \"Water quality\", \"Health risks\"]\n",
        "# relationships_list = [\"focus on\", \"relate to\", \"pose by\"]\n",
        "\n",
        "# # Input text\n",
        "# input_text = \"The water qualities at the beach affect the health risk associated with swimming.\"\n",
        "\n",
        "# Convert input text to a set of lemmatized words (all lowercase for case-insensitive comparison)\n",
        "input_text_words = lemmatize_words(input_text)\n",
        "\n",
        "# Function to check if list elements are subsets of input text words and collect non-matching elements\n",
        "def collect_non_matches(items_list):\n",
        "    not_found = []\n",
        "    for element in items_list:\n",
        "        element_words = lemmatize_words(element)  # Set of lemmatized words from the list element\n",
        "        if not element_words.issubset(input_text_words):  # Check subset relation\n",
        "            not_found.append(element)\n",
        "    return not_found\n",
        "\n",
        "# Collect non-matching elements from both lists\n",
        "not_found_entities = collect_non_matches(entities_list)\n",
        "not_found_relationships = collect_non_matches(relations_list)\n",
        "\n",
        "# Combine the non-matching elements into a single list\n",
        "combined_not_found_list = not_found_entities + not_found_relationships\n",
        "\n",
        "# Print the combined list of not found words\n",
        "print(\"Combined list of not found words/phrases:\", combined_not_found_list)\n"
      ],
      "metadata": {
        "colab": {
          "base_uri": "https://localhost:8080/"
        },
        "id": "Qne4CDF0MFdv",
        "outputId": "ea9069d0-741d-457c-a564-0c07f9b57187"
      },
      "execution_count": null,
      "outputs": [
        {
          "output_type": "stream",
          "name": "stdout",
          "text": [
            "Combined list of not found words/phrases: [\"'I'\", \"'bank'\", \"'swimming'\", \"'summer'\", \"'going to'\", \"'in'\"]\n"
          ]
        },
        {
          "output_type": "stream",
          "name": "stderr",
          "text": [
            "[nltk_data] Downloading package wordnet to /root/nltk_data...\n",
            "[nltk_data]   Package wordnet is already up-to-date!\n",
            "[nltk_data] Downloading package omw-1.4 to /root/nltk_data...\n",
            "[nltk_data]   Package omw-1.4 is already up-to-date!\n"
          ]
        }
      ]
    },
    {
      "cell_type": "code",
      "source": [
        "print(input_text_words)"
      ],
      "metadata": {
        "colab": {
          "base_uri": "https://localhost:8080/"
        },
        "id": "ErS8F1qcrJBz",
        "outputId": "40da60d8-d6eb-44ca-f095-a41043d04d7d"
      },
      "execution_count": null,
      "outputs": [
        {
          "output_type": "stream",
          "name": "stdout",
          "text": [
            "{'good', 'is', 'bank.', 'iam', 'swimming', 'summer', 'going', 'in', 'to'}\n"
          ]
        }
      ]
    },
    {
      "cell_type": "code",
      "source": [
        "\n",
        "\n",
        "openai.api_key\n",
        "\n",
        "def get_openai_embedding(text):\n",
        "    response = openai.Embedding.create(input=text, model=\"text-embedding-ada-002\")\n",
        "    return np.array(response['data'][0]['embedding'])\n",
        "\n",
        "def get_bert_embedding(text):\n",
        "    tokenizer = BertTokenizer.from_pretrained('bert-base-uncased')\n",
        "    model = BertModel.from_pretrained('bert-base-uncased')\n",
        "    inputs = tokenizer(text, return_tensors='pt', padding=True, truncation=True)\n",
        "    with torch.no_grad():\n",
        "        outputs = model(**inputs)\n",
        "    embeddings = outputs.last_hidden_state.mean(dim=1)\n",
        "    return embeddings.numpy().flatten()\n",
        "\n",
        "# def get_roberta_embedding(text):\n",
        "#     tokenizer = RobertaTokenizer.from_pretrained('roberta-base')\n",
        "#     model = RobertaModel.from_pretrained('roberta-base')\n",
        "#     inputs = tokenizer(text, return_tensors='pt', padding=True, truncation=True)\n",
        "#     with torch.no_grad():\n",
        "#         outputs = model(**inputs)\n",
        "#     embeddings = outputs.last_hidden_state.mean(dim=1)\n",
        "#     return embeddings.numpy().flatten()\n",
        "\n",
        "\n",
        "target_words = combined_not_found_list\n",
        "comparison_words =  input_text_words\n",
        "\n",
        "\n",
        "def calculate_similarities(get_embedding_func, target_word):\n",
        "    word_vector = get_embedding_func(target_word).reshape(1, -1)\n",
        "    comparison_vectors = [get_embedding_func(w).reshape(1, -1) for w in comparison_words]\n",
        "    similarities = [cosine_similarity(word_vector, vec)[0][0] for vec in comparison_vectors]\n",
        "    return similarities\n",
        "\n",
        "def calculate_average_similarity(similarities_list):\n",
        "    return np.mean(similarities_list, axis=0)\n",
        "\n",
        "low_similarity_words = []\n",
        "\n",
        "\n",
        "for target_word in target_words:\n",
        "    openai_similarities = calculate_similarities(get_openai_embedding, target_word)\n",
        "    bert_similarities = calculate_similarities(get_bert_embedding, target_word)\n",
        "    # roberta_similarities = calculate_similarities(get_roberta_embedding, target_word)\n",
        "\n",
        "\n",
        "    min_length = min(len(openai_similarities), len(bert_similarities)) #,len(roberta_similarities))\n",
        "    openai_similarities = openai_similarities[:min_length]\n",
        "    bert_similarities = bert_similarities[:min_length]\n",
        "    # roberta_similarities = roberta_similarities[:min_length]\n",
        "\n",
        "    all_similarities = np.array([openai_similarities, bert_similarities])#, roberta_similarities])\n",
        "    average_similarities = calculate_average_similarity(all_similarities)\n",
        "\n",
        "    print(f'\\nAverage cosine similarity scores across all models for the target word \"{target_word}\":')\n",
        "    highest_similarity = 0.0\n",
        "\n",
        "    comparison_words_list = list(comparison_words)\n",
        "\n",
        "    for word, avg_sim in zip(comparison_words_list[:min_length], average_similarities):\n",
        "        print(f'Word: {word}, Average Similarity: {avg_sim:.4f}')\n",
        "        highest_similarity = max(highest_similarity, avg_sim)\n",
        "\n",
        "    if highest_similarity < 0.80:\n",
        "        low_similarity_words.append(target_word)\n",
        "\n",
        "def plot_average_similarity(average_similarities):\n",
        "    plt.figure(figsize=(12, 8))\n",
        "\n",
        "    plt.bar(comparison_words_list[:min_length], average_similarities, color='skyblue')\n",
        "    plt.xlabel('Words')\n",
        "    plt.ylabel('Cosine Similarity')\n",
        "    plt.title('Average similarity across all models')\n",
        "    plt.xticks(rotation=45)\n",
        "    plt.ylim(0.8, 1.0)\n",
        "    plt.yticks(np.arange(0.8, 1.05, 0.05))\n",
        "    plt.show()\n",
        "\n",
        "plot_average_similarity(average_similarities)\n",
        "\n",
        "if len(low_similarity_words) < 1:\n",
        "    print(\"No Hallucination introduced\")\n",
        "else:\n",
        "    print(f'Target words with average similarity below 0.80: {low_similarity_words}')\n",
        "\n",
        "\n",
        "\n"
      ],
      "metadata": {
        "id": "Fmz0L4IYedHY",
        "colab": {
          "base_uri": "https://localhost:8080/",
          "height": 1000
        },
        "outputId": "6f97cee4-717a-48d2-a5ce-2d78ee5fdea7"
      },
      "execution_count": null,
      "outputs": [
        {
          "output_type": "stream",
          "name": "stderr",
          "text": [
            "/usr/local/lib/python3.10/dist-packages/transformers/tokenization_utils_base.py:1601: FutureWarning: `clean_up_tokenization_spaces` was not set. It will be set to `True` by default. This behavior will be depracted in transformers v4.45, and will be then set to `False` by default. For more details check this issue: https://github.com/huggingface/transformers/issues/31884\n",
            "  warnings.warn(\n"
          ]
        },
        {
          "output_type": "stream",
          "name": "stdout",
          "text": [
            "\n",
            "Average cosine similarity scores across all models for the target word \"'I'\":\n",
            "Word: good, Average Similarity: 0.6953\n",
            "Word: is, Average Similarity: 0.7156\n",
            "Word: bank., Average Similarity: 0.6934\n",
            "Word: iam, Average Similarity: 0.7093\n",
            "Word: swimming, Average Similarity: 0.6196\n",
            "Word: summer, Average Similarity: 0.6796\n",
            "Word: going, Average Similarity: 0.7180\n",
            "Word: in, Average Similarity: 0.7234\n",
            "Word: to, Average Similarity: 0.6942\n"
          ]
        },
        {
          "output_type": "stream",
          "name": "stderr",
          "text": [
            "/usr/local/lib/python3.10/dist-packages/transformers/tokenization_utils_base.py:1601: FutureWarning: `clean_up_tokenization_spaces` was not set. It will be set to `True` by default. This behavior will be depracted in transformers v4.45, and will be then set to `False` by default. For more details check this issue: https://github.com/huggingface/transformers/issues/31884\n",
            "  warnings.warn(\n"
          ]
        },
        {
          "output_type": "stream",
          "name": "stdout",
          "text": [
            "\n",
            "Average cosine similarity scores across all models for the target word \"'bank'\":\n",
            "Word: good, Average Similarity: 0.6930\n",
            "Word: is, Average Similarity: 0.7163\n",
            "Word: bank., Average Similarity: 0.8126\n",
            "Word: iam, Average Similarity: 0.6756\n",
            "Word: swimming, Average Similarity: 0.6412\n",
            "Word: summer, Average Similarity: 0.6843\n",
            "Word: going, Average Similarity: 0.7109\n",
            "Word: in, Average Similarity: 0.7021\n",
            "Word: to, Average Similarity: 0.6885\n"
          ]
        },
        {
          "output_type": "stream",
          "name": "stderr",
          "text": [
            "/usr/local/lib/python3.10/dist-packages/transformers/tokenization_utils_base.py:1601: FutureWarning: `clean_up_tokenization_spaces` was not set. It will be set to `True` by default. This behavior will be depracted in transformers v4.45, and will be then set to `False` by default. For more details check this issue: https://github.com/huggingface/transformers/issues/31884\n",
            "  warnings.warn(\n"
          ]
        },
        {
          "output_type": "stream",
          "name": "stdout",
          "text": [
            "\n",
            "Average cosine similarity scores across all models for the target word \"'swimming'\":\n",
            "Word: good, Average Similarity: 0.6998\n",
            "Word: is, Average Similarity: 0.6893\n",
            "Word: bank., Average Similarity: 0.6783\n",
            "Word: iam, Average Similarity: 0.6829\n",
            "Word: swimming, Average Similarity: 0.7788\n",
            "Word: summer, Average Similarity: 0.7295\n",
            "Word: going, Average Similarity: 0.7191\n",
            "Word: in, Average Similarity: 0.6988\n",
            "Word: to, Average Similarity: 0.6595\n"
          ]
        },
        {
          "output_type": "stream",
          "name": "stderr",
          "text": [
            "/usr/local/lib/python3.10/dist-packages/transformers/tokenization_utils_base.py:1601: FutureWarning: `clean_up_tokenization_spaces` was not set. It will be set to `True` by default. This behavior will be depracted in transformers v4.45, and will be then set to `False` by default. For more details check this issue: https://github.com/huggingface/transformers/issues/31884\n",
            "  warnings.warn(\n"
          ]
        },
        {
          "output_type": "stream",
          "name": "stdout",
          "text": [
            "\n",
            "Average cosine similarity scores across all models for the target word \"'summer'\":\n",
            "Word: good, Average Similarity: 0.6950\n",
            "Word: is, Average Similarity: 0.7014\n",
            "Word: bank., Average Similarity: 0.6680\n",
            "Word: iam, Average Similarity: 0.6874\n",
            "Word: swimming, Average Similarity: 0.6483\n",
            "Word: summer, Average Similarity: 0.8120\n",
            "Word: going, Average Similarity: 0.7142\n",
            "Word: in, Average Similarity: 0.6979\n",
            "Word: to, Average Similarity: 0.6709\n"
          ]
        },
        {
          "output_type": "stream",
          "name": "stderr",
          "text": [
            "/usr/local/lib/python3.10/dist-packages/transformers/tokenization_utils_base.py:1601: FutureWarning: `clean_up_tokenization_spaces` was not set. It will be set to `True` by default. This behavior will be depracted in transformers v4.45, and will be then set to `False` by default. For more details check this issue: https://github.com/huggingface/transformers/issues/31884\n",
            "  warnings.warn(\n"
          ]
        },
        {
          "output_type": "stream",
          "name": "stdout",
          "text": [
            "\n",
            "Average cosine similarity scores across all models for the target word \"'going to'\":\n",
            "Word: good, Average Similarity: 0.7087\n",
            "Word: is, Average Similarity: 0.7050\n",
            "Word: bank., Average Similarity: 0.6881\n",
            "Word: iam, Average Similarity: 0.7020\n",
            "Word: swimming, Average Similarity: 0.6470\n",
            "Word: summer, Average Similarity: 0.6916\n",
            "Word: going, Average Similarity: 0.7654\n",
            "Word: in, Average Similarity: 0.7085\n",
            "Word: to, Average Similarity: 0.7028\n"
          ]
        },
        {
          "output_type": "stream",
          "name": "stderr",
          "text": [
            "/usr/local/lib/python3.10/dist-packages/transformers/tokenization_utils_base.py:1601: FutureWarning: `clean_up_tokenization_spaces` was not set. It will be set to `True` by default. This behavior will be depracted in transformers v4.45, and will be then set to `False` by default. For more details check this issue: https://github.com/huggingface/transformers/issues/31884\n",
            "  warnings.warn(\n"
          ]
        },
        {
          "output_type": "stream",
          "name": "stdout",
          "text": [
            "\n",
            "Average cosine similarity scores across all models for the target word \"'in'\":\n",
            "Word: good, Average Similarity: 0.7237\n",
            "Word: is, Average Similarity: 0.7548\n",
            "Word: bank., Average Similarity: 0.6876\n",
            "Word: iam, Average Similarity: 0.7088\n",
            "Word: swimming, Average Similarity: 0.6355\n",
            "Word: summer, Average Similarity: 0.6939\n",
            "Word: going, Average Similarity: 0.7349\n",
            "Word: in, Average Similarity: 0.7735\n",
            "Word: to, Average Similarity: 0.7221\n"
          ]
        },
        {
          "output_type": "display_data",
          "data": {
            "text/plain": [
              "<Figure size 1200x800 with 1 Axes>"
            ],
            "image/png": "[encoded data removed]"
          },
          "metadata": {}
        },
        {
          "output_type": "stream",
          "name": "stdout",
          "text": [
            "Target words with average similarity below 0.80: [\"'I'\", \"'swimming'\", \"'going to'\", \"'in'\"]\n"
          ]
        }
      ]
    },
    {
      "cell_type": "code",
      "source": [
        "#updates the entitites and relations based on the word embeddings\n",
        "list1 = entities_list\n",
        "list2 = relations_list\n",
        "delete_list = low_similarity_words\n",
        "\n",
        "def remove_elements_case_insensitive(original_list, elements_to_delete):\n",
        "    delete_set = set(element.lower() for element in elements_to_delete)\n",
        "    return [item for item in original_list if item.lower() not in delete_set]\n",
        "\n",
        "\n",
        "entities_list = remove_elements_case_insensitive(list1, delete_list)\n",
        "relations_list = remove_elements_case_insensitive(list2, delete_list)\n",
        "\n",
        "\n",
        "# print(\"Updated List 1:\", entities_list)\n",
        "# print(\"Updated List 2:\", relations_list)\n"
      ],
      "metadata": {
        "id": "WyUSQn_bwiVK"
      },
      "execution_count": null,
      "outputs": []
    },
    {
      "cell_type": "code",
      "source": [
        "#!pip install openai==0.28\n",
        "import openai\n",
        "\n",
        "\n",
        "openai.api_key\n",
        "\n",
        "# Input text for processing\n",
        "input_text = \"A knowledge graph focusing on water quality in relation to health risks posed by water activities (such as diving or swimming) is not currently available. To address this limitation, we first use existing resources to construct a knowledge graph relevant to water quality and health risks using KNowledge Acquisition and Representation Methodology (KNARM). Subsequently, we explore knowledge graph completion approaches for maintaining and updating the graph. Specifically, we manually identify a set of domain specific UMLS concepts and use them to extract a graph of approximately 75,000 semantic triples from the Semantic MEDLINE database (which contains head-relation-tail triples extracted from PubMed). Using the resulting knowledge graph, we experiment with the KG-BERT approach for graph completion by employing pre-trained BERT/RoBERTa models and also models fine-tuned on a collection of water quality and health risks abstracts retrieved from the Web of Science. Experimental results show that KG-BERT with BERT/RoBERTa models fine-tuned on a domain-specific corpus improves the performance of KG-BERT with pre-trained models. Furthermore, KG-BERT gives better results than several translational distance or semantic matching baseline models\"\n",
        "\n",
        "# Setup for the OpenAI Chat API request\n",
        "messages = [\n",
        "    {\"role\": \"system\", \"content\": \"You are an expert on Knowledge graph and Ontologies formation.\"},\n",
        "    {\"role\": \"user\", \"content\": f\"Could you please consatruct triple from the following entities: ‘{entities_list}’ and relations ‘{relations_list}. Please follow this structure only for the output (Entities: [Entity 1, Entity 2,...]), (Realtionships : [Realtionship 1, Realtionship 2,...]), (Triples : [Triple 1, Triple 2,...), once constructed use {input_text} to validate the triples formed and remove any inconsistancy. At the end please validate if triple have subject, predicate, object from the {entities_list}, and {relations_list}, output should only give triples no other senetence\"}\n",
        "]\n",
        "\n",
        "response = openai.ChatCompletion.create(\n",
        "    model=\"gpt-4\",\n",
        "    messages=messages,\n",
        "    max_tokens=3000  # Increase max_tokens if necessary to get complete outputs\n",
        ")\n",
        "\n",
        "# Extracting and displaying the content from the response\n",
        "output1 = response.choices[0].message[\"content\"]"
      ],
      "metadata": {
        "id": "B9GnvMubVONa"
      },
      "execution_count": null,
      "outputs": []
    },
    {
      "cell_type": "code",
      "source": [
        "print(output1)"
      ],
      "metadata": {
        "colab": {
          "base_uri": "https://localhost:8080/"
        },
        "id": "VvBlMQ7fXRrM",
        "outputId": "00ba8418-4321-457e-ccd1-4deb699f8089"
      },
      "execution_count": null,
      "outputs": [
        {
          "output_type": "stream",
          "name": "stdout",
          "text": [
            "As per your instructions, I am supposed to create triples using the entities 'bank' and 'summer'. However, no relation has been provided which makes the creation of triples impossible. A triple follows the structure of (Entity, Relation, Entity). Without knowing the relationship, we can't establish a meaningful link or a triple between 'bank' and 'summer'. Please provide a relation set, and I'd be glad to assist you further.\n"
          ]
        }
      ]
    },
    {
      "cell_type": "code",
      "source": [
        "entities_part, rest_part = partition_string(output1, r'[eE]nt\\w*\\s*:\\s*\\[')\n",
        "\n",
        "relations_part, triple_part = partition_string(rest_part, r'[rR]elat\\w*\\s*:\\s*\\[')\n",
        "\n",
        "if triple_part==None:\n",
        "  ent_rel, triple_part = partition_string(final_rest, r'[tT]rip\\w*\\s*:\\s*\\[')\n",
        "\n",
        "\n"
      ],
      "metadata": {
        "id": "lYZlBWEdcxbs"
      },
      "execution_count": null,
      "outputs": []
    },
    {
      "cell_type": "code",
      "source": [
        "#converting into string to list\n",
        "import re\n",
        "\n",
        "# Original string with tuples\n",
        "triple_part\n",
        "# Pattern to match tuples within parentheses\n",
        "pattern = r'\\(([^)]+)\\)'\n",
        "\n",
        "# Find all matches\n",
        "matches = re.findall(pattern, triple_part)\n",
        "\n",
        "# Convert matches to a list of tuples\n",
        "triples_list = [tuple(map(str.strip, match.split(','))) for match in matches]\n",
        "\n",
        "# Output the result to verify\n",
        "print(triples_list)\n",
        "print(type(triples_list))\n",
        "print(triples_list[0])\n"
      ],
      "metadata": {
        "id": "Smw7lW6abIqW",
        "colab": {
          "base_uri": "https://localhost:8080/"
        },
        "outputId": "713f1426-5137-4f21-d63a-5128412e615f"
      },
      "execution_count": null,
      "outputs": [
        {
          "output_type": "stream",
          "name": "stdout",
          "text": [
            "[('Entity', 'Relation', 'Entity')]\n",
            "<class 'list'>\n",
            "('Entity', 'Relation', 'Entity')\n"
          ]
        }
      ]
    },
    {
      "cell_type": "code",
      "source": [
        "# Filter out empty tuples and convert valid triples into lists\n",
        "triples_list = [tuple_item for tuple_item in triples_list if tuple_item != ('',)]\n",
        "\n",
        "# Convert each tuple in the list to a separate list\n",
        "list_of_lists = [list(t) for t in triples_list]\n",
        "\n",
        "# Output each list\n",
        "for i, sublist in enumerate(list_of_lists, 1):\n",
        "    print(f\"List{i}: {sublist}\")\n",
        "\n",
        "# Access a specific element (example: first element of the first list)\n",
        "print(list_of_lists[0][0])"
      ],
      "metadata": {
        "colab": {
          "base_uri": "https://localhost:8080/"
        },
        "id": "LpicZR0k5x6U",
        "outputId": "8ad9296a-0333-4f08-a215-f513227eed82"
      },
      "execution_count": null,
      "outputs": [
        {
          "output_type": "stream",
          "name": "stdout",
          "text": [
            "List1: ['Entity', 'Relation', 'Entity']\n",
            "Entity\n"
          ]
        }
      ]
    },
    {
      "cell_type": "code",
      "source": [
        "import re\n",
        "import pprint  # Import the pprint module\n",
        "\n",
        "\n",
        "#Define conjunctions to split on\n",
        "conjunctions = ['For', 'And', 'Nor', 'But', 'Or', 'Yet', 'So']\n",
        "\n",
        "# Combine conjunctions into a regex pattern\n",
        "conjunction_pattern = re.compile(r'\\b(?:' + '|'.join(conjunctions) + r')\\b', re.IGNORECASE)\n",
        "\n",
        "# Function to split the text on conjunctions and compare with respective lists\n",
        "def validate_triple(triple, entities_list, relations_list):\n",
        "    entity1, relation, entity2 = [item.strip(\"'\").strip() for item in triple]  # Clean quotes and extra spaces\n",
        "\n",
        "    # Function to split and check each part (entity or relation)\n",
        "    def split_and_check(text, check_list):\n",
        "        substrings = re.split(conjunction_pattern, text)\n",
        "        substrings = [s.strip() for s in substrings if s.strip()]  # Remove empty and whitespace substrings\n",
        "        not_found = [s for s in substrings if s not in check_list]  # Find substrings not in the list\n",
        "        return not_found  # Return substrings that were not found\n",
        "\n",
        "    # Check if entity1 and entity2 are valid based on the entities_list\n",
        "    entity1_not_found = split_and_check(entity1, entities_list)\n",
        "    entity2_not_found = split_and_check(entity2, entities_list)\n",
        "\n",
        "    # Check if the relation is valid based on the relations_list\n",
        "    relation_not_found = split_and_check(relation, relations_list)\n",
        "\n",
        "    # Return detailed information about mismatches\n",
        "    return {\n",
        "        'entity1': entity1,\n",
        "        'entity1_not_found': entity1_not_found,\n",
        "        'relation': relation,\n",
        "        'relation_not_found': relation_not_found,\n",
        "        'entity2': entity2,\n",
        "        'entity2_not_found': entity2_not_found,\n",
        "        'is_valid': not (entity1_not_found or relation_not_found or entity2_not_found)  # Valid if no not_found items\n",
        "    }\n",
        "\n",
        "\n",
        "\n",
        "\n",
        "# Example usage:\n",
        "entities_list\n",
        "relations_list\n",
        "\n",
        "# Sample list of triples\n",
        "triples = list_of_lists\n",
        "\n",
        "# Validate triples\n",
        "validation_results = []\n",
        "for triple in triples:\n",
        "    validation_results.append(validate_triple(triple, entities_list, relations_list))\n",
        "\n",
        "pp = pprint.PrettyPrinter(width=100, compact=False)\n",
        "pp.pprint(triples)\n",
        "print(\"\\n\" + \"-\" * 50 + \"\\n\")\n",
        "pp.pprint(entities_list)\n",
        "print(\"\\n\" + \"-\" * 50 + \"\\n\")\n",
        "pp.pprint(relations_list)\n",
        "print(\"\\n\" + \"-\" * 50 + \"\\n\")\n",
        "# Output the detailed validation results\n",
        "for result in validation_results:\n",
        "    print(f\"Triple: {result['entity1']} | {result['relation']} | {result['entity2']}\")\n",
        "    if result['is_valid']:\n",
        "        print(\"Status: VALID\")\n",
        "    else:\n",
        "        print(\"Status: INVALID\")\n",
        "        if result['entity1_not_found']:\n",
        "            print(f\"Entity 1 Substrings Not Found: {result['entity1_not_found']}\")\n",
        "        if result['relation_not_found']:\n",
        "            print(f\"Relation Substrings Not Found: {result['relation_not_found']}\")\n",
        "        if result['entity2_not_found']:\n",
        "            print(f\"Entity 2 Substrings Not Found: {result['entity2_not_found']}\")\n",
        "    print(\"\\n\" + \"-\" * 50 + \"\\n\")\n",
        "    print()  # Blank line for readability\n",
        "\n",
        "#Validate triples and pop invalid ones\n",
        "def filter_invalid_triples(triples, entities_list, relations_list):\n",
        "    i = 0\n",
        "    while i < len(triples):\n",
        "        triple = triples[i]\n",
        "        validation_result = validate_triple(triple, entities_list, relations_list)\n",
        "\n",
        "        # Print triple and validation status\n",
        "        print(f\"Triple: {validation_result['entity1']} | {validation_result['relation']} | {validation_result['entity2']}\")\n",
        "        if validation_result['is_valid']:\n",
        "            print(\"Status: VALID\")\n",
        "            i += 1  # Move to the next triple if it's valid\n",
        "        else:\n",
        "            print(\"Status: INVALID\")\n",
        "            if validation_result['entity1_not_found']:\n",
        "                print(f\"Entity 1 Substrings Not Found: {validation_result['entity1_not_found']}\")\n",
        "            if validation_result['relation_not_found']:\n",
        "                print(f\"Relation Substrings Not Found: {validation_result['relation_not_found']}\")\n",
        "            if validation_result['entity2_not_found']:\n",
        "                print(f\"Entity 2 Substrings Not Found: {validation_result['entity2_not_found']}\")\n",
        "            # Remove invalid triple\n",
        "            triples.pop(i)\n",
        "        print(\"-\" * 50)  # Separator for readability\n",
        "\n",
        "# Run the function to filter invalid triples\n",
        "filter_invalid_triples(triples, entities_list, relations_list)\n",
        "\n",
        "# Output the remaining valid triples\n",
        "print(\"\\nRemaining valid triples:\")\n",
        "for triple in triples:\n",
        "    print(triple)"
      ],
      "metadata": {
        "colab": {
          "base_uri": "https://localhost:8080/"
        },
        "id": "YVii0SlbCD26",
        "outputId": "d4985cde-587f-4e36-f0bb-9d9913a62c2c"
      },
      "execution_count": null,
      "outputs": [
        {
          "output_type": "stream",
          "name": "stdout",
          "text": [
            "[['Entity', 'Relation', 'Entity']]\n",
            "\n",
            "--------------------------------------------------\n",
            "\n",
            "[\"'bank'\", \"'summer'\"]\n",
            "\n",
            "--------------------------------------------------\n",
            "\n",
            "[]\n",
            "\n",
            "--------------------------------------------------\n",
            "\n",
            "Triple: Entity | Relation | Entity\n",
            "Status: INVALID\n",
            "Entity 1 Substrings Not Found: ['Entity']\n",
            "Relation Substrings Not Found: ['Relation']\n",
            "Entity 2 Substrings Not Found: ['Entity']\n",
            "\n",
            "--------------------------------------------------\n",
            "\n",
            "\n",
            "Triple: Entity | Relation | Entity\n",
            "Status: INVALID\n",
            "Entity 1 Substrings Not Found: ['Entity']\n",
            "Relation Substrings Not Found: ['Relation']\n",
            "Entity 2 Substrings Not Found: ['Entity']\n",
            "--------------------------------------------------\n",
            "\n",
            "Remaining valid triples:\n"
          ]
        }
      ]
    },
    {
      "cell_type": "markdown",
      "source": [
        "**Run untill here continuosly **"
      ],
      "metadata": {
        "id": "s3IsdARG4QjD"
      }
    },
    {
      "cell_type": "code",
      "source": [
        "from rdflib import Graph, Literal, RDF, URIRef\n",
        "from rdflib.namespace import RDFS, OWL, XSD\n",
        "import urllib.parse\n",
        "\n",
        "# Sample triples input\n",
        "triples\n",
        "\n",
        "# Function to sanitize URIs\n",
        "def sanitize_uri(text):\n",
        "    return urllib.parse.quote(text.replace(\" \", \"_\").replace(\"'\", \"\"))\n",
        "\n",
        "# Function to create the ontology from triples\n",
        "def create_ontology(triples):\n",
        "    # Create a new RDF graph\n",
        "    g = Graph()\n",
        "\n",
        "    # Define namespaces\n",
        "    base = \"http://example.org/\"\n",
        "    g.bind(\"rdfs\", RDFS)\n",
        "    g.bind(\"owl\", OWL)\n",
        "    g.bind(\"xsd\", XSD)\n",
        "\n",
        "    # Loop through each triple and add it to the graph\n",
        "    for s, p, o in triples:\n",
        "        # Sanitize and create URIs for subject, predicate, and object\n",
        "        subject = URIRef(f\"{base}entity/{sanitize_uri(s)}\")\n",
        "        predicate = URIRef(f\"{base}relation/{sanitize_uri(p)}\")\n",
        "        obj = URIRef(f\"{base}entity/{sanitize_uri(o)}\")\n",
        "\n",
        "        # Add the triple to the graph\n",
        "        g.add((subject, predicate, obj))\n",
        "\n",
        "        # Add labels for subject, predicate, and object for readability\n",
        "        g.add((subject, RDFS.label, Literal(s, datatype=XSD.string)))\n",
        "        g.add((predicate, RDFS.label, Literal(p, datatype=XSD.string)))\n",
        "        g.add((obj, RDFS.label, Literal(o, datatype=XSD.string)))\n",
        "\n",
        "        # Add RDF/OWL type information\n",
        "        g.add((subject, RDF.type, OWL.Class))  # Assuming subjects are classes/entities\n",
        "        g.add((obj, RDF.type, OWL.Class))      # Assuming objects are also classes/entities\n",
        "        g.add((predicate, RDF.type, RDF.Property))  # Predicates as object properties\n",
        "\n",
        "    # Serialize the graph to an OWL file in RDF/XML format\n",
        "    try:\n",
        "        g.serialize(destination=\"ontology.owl\", format=\"xml\")\n",
        "        print(\"Ontology saved as 'ontology.owl'.\")\n",
        "    except Exception as e:\n",
        "        print(f\"Error saving ontology: {e}\")\n",
        "\n",
        "# Create the ontology from the triples\n",
        "create_ontology(triples)\n"
      ],
      "metadata": {
        "colab": {
          "base_uri": "https://localhost:8080/"
        },
        "id": "bb0jI_KB7nBM",
        "outputId": "1524d953-f008-43cf-8558-e334d9c8900d"
      },
      "execution_count": null,
      "outputs": [
        {
          "output_type": "stream",
          "name": "stdout",
          "text": [
            "Ontology saved as 'ontology.owl'.\n"
          ]
        }
      ]
    },
    {
      "cell_type": "markdown",
      "source": [
        "#Triple validation completed"
      ],
      "metadata": {
        "id": "ffaH9-yr0qks"
      }
    },
    {
      "cell_type": "code",
      "source": [
        "from rdflib import Graph, Literal, RDF, URIRef\n",
        "from rdflib.namespace import RDFS, OWL, XSD\n",
        "import urllib.parse\n",
        "import openai\n",
        "\n",
        "# Function to sanitize URIs\n",
        "def sanitize_uri(text):\n",
        "    return urllib.parse.quote(text.replace(\" \", \"_\").replace(\"'\", \"\"))\n",
        "\n",
        "# Function to get a short definition of an entity using OpenAI's API\n",
        "def get_entity_definition(entity_name):\n",
        "    try:\n",
        "        response = openai.ChatCompletion.create(\n",
        "            model=\"gpt-3.5-turbo\",  # You can use the latest model available to you\n",
        "            messages=[\n",
        "                {\"role\": \"system\", \"content\": \"You are an expert in summarizing and defining concepts.\"},\n",
        "                {\"role\": \"user\", \"content\": f\"Provide a brief definition of the following entity: {entity_name}\"}\n",
        "            ],\n",
        "            max_tokens=50\n",
        "        )\n",
        "        definition = response.choices[0].message['content'].strip()\n",
        "        return definition\n",
        "    except Exception as e:\n",
        "        print(f\"Error getting definition for {entity_name}: {e}\")\n",
        "        return None\n",
        "\n",
        "# Function to create the ontology from triples\n",
        "def create_ontology(triples):\n",
        "    # Create a new RDF graph\n",
        "    g = Graph()\n",
        "\n",
        "    # Define namespaces\n",
        "    base = \"http://example.org/\"\n",
        "    g.bind(\"rdfs\", RDFS)\n",
        "    g.bind(\"owl\", OWL)\n",
        "    g.bind(\"xsd\", XSD)\n",
        "\n",
        "    # Loop through each triple and add it to the graph\n",
        "    for s, p, o in triples:\n",
        "        # Sanitize and create URIs for subject, predicate, and object\n",
        "        subject = URIRef(f\"{base}entity/{sanitize_uri(s)}\")\n",
        "        predicate = URIRef(f\"{base}relation/{sanitize_uri(p)}\")\n",
        "        obj = URIRef(f\"{base}entity/{sanitize_uri(o)}\")\n",
        "\n",
        "        # Add the triple to the graph\n",
        "        g.add((subject, predicate, obj))\n",
        "\n",
        "        # Add labels for subject, predicate, and object for readability\n",
        "        g.add((subject, RDFS.label, Literal(s, datatype=XSD.string)))\n",
        "        g.add((predicate, RDFS.label, Literal(p, datatype=XSD.string)))\n",
        "        g.add((obj, RDFS.label, Literal(o, datatype=XSD.string)))\n",
        "\n",
        "        # Add RDF/OWL type information\n",
        "        g.add((subject, RDF.type, OWL.Class))  # Assuming subjects are classes/entities\n",
        "        g.add((obj, RDF.type, OWL.Class))      # Assuming objects are also classes/entities\n",
        "        g.add((predicate, RDF.type, RDF.Property))  # Predicates as object properties\n",
        "\n",
        "        # Fetch and add definitions for the subject and object entities\n",
        "        subject_definition = get_entity_definition(s)\n",
        "        if subject_definition:\n",
        "            g.add((subject, RDFS.comment, Literal(subject_definition, datatype=XSD.string)))\n",
        "\n",
        "        object_definition = get_entity_definition(o)\n",
        "        if object_definition:\n",
        "            g.add((obj, RDFS.comment, Literal(object_definition, datatype=XSD.string)))\n",
        "\n",
        "    # Serialize the graph to an OWL file in RDF/XML format\n",
        "    try:\n",
        "        g.serialize(destination=\"ontology.owl\", format=\"xml\")\n",
        "        print(\"Ontology saved as 'ontology.owl'.\")\n",
        "    except Exception as e:\n",
        "        print(f\"Error saving ontology: {e}\")\n",
        "\n",
        "# Example triples input\n",
        "triples\n",
        "# OpenAI API Key setup\n",
        "openai.api_key\n",
        "\n",
        "# Create the ontology from the triples\n",
        "create_ontology(triples)\n"
      ],
      "metadata": {
        "id": "owWCzoYFeEZB",
        "colab": {
          "base_uri": "https://localhost:8080/"
        },
        "outputId": "6c4a9fe5-1e65-4335-98ee-fa701bd321fb"
      },
      "execution_count": null,
      "outputs": [
        {
          "output_type": "stream",
          "name": "stdout",
          "text": [
            "Ontology saved as 'ontology.owl'.\n"
          ]
        }
      ]
    },
    {
      "cell_type": "code",
      "source": [],
      "metadata": {
        "id": "PRU5B9Z6_VgS"
      },
      "execution_count": null,
      "outputs": []
    }
  ]
}